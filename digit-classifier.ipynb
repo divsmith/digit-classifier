{
 "cells": [
  {
   "cell_type": "code",
   "execution_count": 1,
   "metadata": {},
   "outputs": [],
   "source": [
    "import numpy as np\n",
    "import _pickle as cPickle\n",
    "import gzip\n",
    "import random"
   ]
  },
  {
   "cell_type": "code",
   "execution_count": 2,
   "metadata": {},
   "outputs": [],
   "source": [
    "class Network(object):\n",
    "    \n",
    "    def __init__(self, sizes):\n",
    "        self.num_layers = len(sizes)\n",
    "        self.sizes = sizes\n",
    "        self.biases = [np.random.randn(y, 1) for y in sizes[1:]]\n",
    "        self.weights = [np.random.randn(y, x) for x, y in zip(sizes[:-1], sizes[1:])]\n",
    "        \n",
    "    def feedforward(self, a):\n",
    "        for b, w in zip(self.biases, self.weights):\n",
    "            a = sigmoid(np.dot(w, a) + b)\n",
    "        \n",
    "        return a\n",
    "    \n",
    "    def SGD(self, training_data, epochs, mini_batch_size, eta, test_data = None):\n",
    "        if test_data:\n",
    "            n_test = len(test_data)\n",
    "        n = len(training_data)\n",
    "        for j in range(epochs):\n",
    "            random.shuffle(training_data)\n",
    "            mini_batches = [training_data[k:k + mini_batch_size] for k in range(0, n, mini_batch_size)]\n",
    "            for mini_batch in mini_batches:\n",
    "                self.update_mini_batch(mini_batch, eta)\n",
    "            if test_data:\n",
    "                print(\"Epoch {}: {} / {}\".format(j, self.evaluate(test_data), n_test))\n",
    "            else:\n",
    "                print(\"Epoch {} complete\".format(j))\n",
    "                \n",
    "    def update_mini_batch(self, mini_batch, eta):\n",
    "        nabla_b = [np.zeros(b.shape) for b in self.biases]\n",
    "        nabla_w = [np.zeros(w.shape) for w in self.weights]\n",
    "        \n",
    "        for x, y in mini_batch:\n",
    "            delta_nabla_b, delta_nabla_w = self.backprop(x, y)\n",
    "            nabla_b = [nb + dnb for nb, dnb in zip(nabla_b, delta_nabla_b)]\n",
    "            nabla_w = [nw + dnw for nw, dnw in zip(nabla_w, delta_nabla_w)]\n",
    "            \n",
    "        self.weights = [w - (eta/len(mini_batch)) * nw for w, nw in zip(self.weights, nabla_w)]\n",
    "        self.biases = [b - (eta/len(mini_batch)) * nb for b, nb in zip(self.biases, nabla_b)]\n",
    "        \n",
    "    def backprop(self, x, y):\n",
    "        nabla_b = [np.zeros(b.shape) for b in self.biases]\n",
    "        nabla_w = [np.zeros(w.shape) for w in self.weights]\n",
    "        \n",
    "        activation = x\n",
    "        activations = [x]\n",
    "        zs = []\n",
    "        \n",
    "        for b, w in zip(self.biases, self.weights):\n",
    "            z = np.dot(w, activation) + b\n",
    "            zs.append(z)\n",
    "            activation = sigmoid(z)\n",
    "            activations.append(activation)\n",
    "            \n",
    "        delta = self.cost_derivative(activations[-1], y) * sigmoid_prime(zs[-1])\n",
    "        nabla_b[-1] = delta\n",
    "        nabla_w[-1] = np.dot(delta, activations[-2].transpose())\n",
    "        \n",
    "        for l in range(2, self.num_layers):\n",
    "            z = zs[-l]\n",
    "            sp = sigmoid_prime(z)\n",
    "            delta = np.dot(self.weights[-l + 1].transpose(), delta) * sp\n",
    "            nabla_b[-l] = delta\n",
    "            nabla_w[-l] = np.dot(delta, activations[-l-1].transpose())\n",
    "            \n",
    "        return (nabla_b, nabla_w)\n",
    "    \n",
    "    def evaluate(self, test_data):\n",
    "        test_results = [(np.argmax(self.feedforward(x)), y) for (x, y) in test_data]\n",
    "        return sum(int (x == y) for (x, y) in test_results)\n",
    "    \n",
    "    def cost_derivative(self, output_activations, y):\n",
    "        return (output_activations - y)"
   ]
  },
  {
   "cell_type": "code",
   "execution_count": 3,
   "metadata": {},
   "outputs": [],
   "source": [
    "def sigmoid(z):\n",
    "    return 1.0/(1.0+np.exp(-z))\n",
    "\n",
    "def sigmoid_prime(z):\n",
    "    return sigmoid(z) * (1 - sigmoid(z))"
   ]
  },
  {
   "cell_type": "code",
   "execution_count": 4,
   "metadata": {},
   "outputs": [],
   "source": [
    "def load_data():\n",
    "    f = gzip.open('mnist.pkl.gz', 'rb')\n",
    "    training_data, validation_data, test_data = cPickle.load(f, encoding = 'latin1')\n",
    "    f.close()\n",
    "    \n",
    "    return (training_data, validation_data, test_data)\n",
    "\n",
    "def load_data_wrapper():\n",
    "    tr_d, va_d, te_d = load_data()\n",
    "    training_inputs = [np.reshape(x, (784, 1)) for x in tr_d[0]]\n",
    "    training_results = [vectorized_result(y) for y in tr_d[1]]\n",
    "    training_data = list(zip(training_inputs, training_results))\n",
    "    validation_inputs = [np.reshape(x, (784, 1)) for x in va_d[0]]\n",
    "    validation_data = list(zip(validation_inputs, va_d[1]))\n",
    "    test_inputs = [np.reshape(x, (784, 1)) for x in te_d[0]]\n",
    "    test_data = list(zip(test_inputs, te_d[1]))\n",
    "    return (training_data, validation_data, test_data)\n",
    "\n",
    "def vectorized_result(j):\n",
    "    e = np.zeros((10, 1))\n",
    "    e[j] = 1.0\n",
    "    return e"
   ]
  },
  {
   "cell_type": "code",
   "execution_count": 5,
   "metadata": {},
   "outputs": [],
   "source": [
    "training_data, validation_data, test_data = load_data_wrapper()"
   ]
  },
  {
   "cell_type": "code",
   "execution_count": 6,
   "metadata": {},
   "outputs": [
    {
     "name": "stdout",
     "output_type": "stream",
     "text": [
      "Epoch 0: 8203 / 10000\n",
      "Epoch 1: 8368 / 10000\n",
      "Epoch 2: 8402 / 10000\n",
      "Epoch 3: 8487 / 10000\n",
      "Epoch 4: 8489 / 10000\n",
      "Epoch 5: 8497 / 10000\n",
      "Epoch 6: 9362 / 10000\n",
      "Epoch 7: 9357 / 10000\n",
      "Epoch 8: 9388 / 10000\n",
      "Epoch 9: 9412 / 10000\n",
      "Epoch 10: 9426 / 10000\n",
      "Epoch 11: 9422 / 10000\n",
      "Epoch 12: 9465 / 10000\n",
      "Epoch 13: 9465 / 10000\n",
      "Epoch 14: 9409 / 10000\n",
      "Epoch 15: 9450 / 10000\n",
      "Epoch 16: 9458 / 10000\n",
      "Epoch 17: 9465 / 10000\n",
      "Epoch 18: 9466 / 10000\n",
      "Epoch 19: 9472 / 10000\n",
      "Epoch 20: 9465 / 10000\n",
      "Epoch 21: 9485 / 10000\n",
      "Epoch 22: 9459 / 10000\n",
      "Epoch 23: 9458 / 10000\n",
      "Epoch 24: 9479 / 10000\n",
      "Epoch 25: 9465 / 10000\n",
      "Epoch 26: 9493 / 10000\n",
      "Epoch 27: 9462 / 10000\n",
      "Epoch 28: 9490 / 10000\n",
      "Epoch 29: 9484 / 10000\n"
     ]
    }
   ],
   "source": [
    "net = Network([784, 30, 10])\n",
    "net.SGD(training_data, 30, 10, 3.0, test_data = test_data)"
   ]
  },
  {
   "cell_type": "code",
   "execution_count": 7,
   "metadata": {},
   "outputs": [
    {
     "name": "stdout",
     "output_type": "stream",
     "text": [
      "Epoch 0: 6566 / 10000\n",
      "Epoch 1: 6691 / 10000\n",
      "Epoch 2: 6764 / 10000\n",
      "Epoch 3: 6757 / 10000\n",
      "Epoch 4: 6749 / 10000\n",
      "Epoch 5: 6738 / 10000\n",
      "Epoch 6: 6817 / 10000\n",
      "Epoch 7: 6856 / 10000\n",
      "Epoch 8: 6839 / 10000\n",
      "Epoch 9: 6858 / 10000\n",
      "Epoch 10: 6888 / 10000\n",
      "Epoch 11: 6862 / 10000\n",
      "Epoch 12: 6896 / 10000\n",
      "Epoch 13: 6894 / 10000\n",
      "Epoch 14: 6907 / 10000\n",
      "Epoch 15: 6907 / 10000\n",
      "Epoch 16: 6935 / 10000\n",
      "Epoch 17: 6931 / 10000\n",
      "Epoch 18: 6946 / 10000\n",
      "Epoch 19: 6954 / 10000\n",
      "Epoch 20: 6980 / 10000\n",
      "Epoch 21: 6968 / 10000\n",
      "Epoch 22: 7000 / 10000\n",
      "Epoch 23: 6986 / 10000\n",
      "Epoch 24: 7036 / 10000\n",
      "Epoch 25: 7036 / 10000\n",
      "Epoch 26: 7203 / 10000\n",
      "Epoch 27: 7826 / 10000\n",
      "Epoch 28: 7847 / 10000\n",
      "Epoch 29: 7885 / 10000\n"
     ]
    }
   ],
   "source": [
    "net = Network([784, 100, 10])\n",
    "net.SGD(training_data, 30, 10, 3.0, test_data = test_data)"
   ]
  },
  {
   "cell_type": "code",
   "execution_count": 8,
   "metadata": {},
   "outputs": [
    {
     "name": "stdout",
     "output_type": "stream",
     "text": [
      "Epoch 0: 1053 / 10000\n",
      "Epoch 1: 1241 / 10000\n",
      "Epoch 2: 1366 / 10000\n",
      "Epoch 3: 1424 / 10000\n",
      "Epoch 4: 1470 / 10000\n",
      "Epoch 5: 1494 / 10000\n",
      "Epoch 6: 1522 / 10000\n",
      "Epoch 7: 1546 / 10000\n",
      "Epoch 8: 1564 / 10000\n",
      "Epoch 9: 1582 / 10000\n",
      "Epoch 10: 1596 / 10000\n",
      "Epoch 11: 1618 / 10000\n",
      "Epoch 12: 1640 / 10000\n",
      "Epoch 13: 1657 / 10000\n",
      "Epoch 14: 1676 / 10000\n",
      "Epoch 15: 1700 / 10000\n",
      "Epoch 16: 1716 / 10000\n",
      "Epoch 17: 1735 / 10000\n",
      "Epoch 18: 1761 / 10000\n",
      "Epoch 19: 1788 / 10000\n",
      "Epoch 20: 1805 / 10000\n",
      "Epoch 21: 1823 / 10000\n",
      "Epoch 22: 1854 / 10000\n",
      "Epoch 23: 1871 / 10000\n",
      "Epoch 24: 1889 / 10000\n",
      "Epoch 25: 1913 / 10000\n",
      "Epoch 26: 1932 / 10000\n",
      "Epoch 27: 1964 / 10000\n",
      "Epoch 28: 1996 / 10000\n",
      "Epoch 29: 2031 / 10000\n"
     ]
    }
   ],
   "source": [
    "net = Network([784, 100, 10])\n",
    "net.SGD(training_data, 30, 10, 0.001, test_data = test_data)"
   ]
  },
  {
   "cell_type": "code",
   "execution_count": null,
   "metadata": {},
   "outputs": [],
   "source": []
  }
 ],
 "metadata": {
  "kernelspec": {
   "display_name": "Python 3",
   "language": "python",
   "name": "python3"
  },
  "language_info": {
   "codemirror_mode": {
    "name": "ipython",
    "version": 3
   },
   "file_extension": ".py",
   "mimetype": "text/x-python",
   "name": "python",
   "nbconvert_exporter": "python",
   "pygments_lexer": "ipython3",
   "version": "3.6.5"
  }
 },
 "nbformat": 4,
 "nbformat_minor": 2
}
